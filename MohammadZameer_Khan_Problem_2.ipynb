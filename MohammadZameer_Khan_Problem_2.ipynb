{
 "cells": [
  {
   "cell_type": "markdown",
   "id": "f4494a5b-7e2d-4d96-8f70-587161ddf886",
   "metadata": {},
   "source": [
    "## Q1. \n",
    "## A)\n",
    "\n",
    "> function b() is declared that will update the global variable a by calling funciton c(a) <br>\n",
    "> function c(a) inputs an argument a then adds 2 to it and returns the result. <br>\n",
    "> when you execute b() the first time then it updates the value of a by calling c(a), which adds 2 to the current value of a (0) and assigns the result (2) back to a <br>\n",
    "> running b() again updates a again by adding 2 to the current value (2), resulting in a becoming 4 <br>\n",
    "> executing b() for the third time, a is updated by adding 2 to the current value (4), making a equal to 6 <br>\n",
    "> then executing b() three times, a is now 6 <br>"
   ]
  },
  {
   "cell_type": "markdown",
   "id": "59130628-518e-416b-99ed-f5a03376b60f",
   "metadata": {},
   "source": [
    "## Q2."
   ]
  },
  {
   "cell_type": "code",
   "execution_count": 5,
   "id": "dc9fe0e3-de22-49d0-a1e2-82906bd39fc2",
   "metadata": {},
   "outputs": [
    {
     "name": "stdout",
     "output_type": "stream",
     "text": [
      "The file: midterm.py was not found on server!\n",
      "The file: idterm.py was not found on server!\n"
     ]
    }
   ],
   "source": [
    "def fileLength(filename):\n",
    "    try:\n",
    "        infile = open(filename)\n",
    "        contents = infile.read()\n",
    "        infile.close()\n",
    "        return len(contents)\n",
    "    except FileNotFoundError:\n",
    "        print(\"The file: \" + filename + \" was not found on server!\")\n",
    "\n",
    "fileLength('midterm.py')\n",
    "fileLength('idterm.py')"
   ]
  },
  {
   "cell_type": "markdown",
   "id": "6f549d61-055b-4bcb-880b-a66482b2d52a",
   "metadata": {},
   "source": [
    "## Q3."
   ]
  },
  {
   "cell_type": "code",
   "execution_count": 6,
   "id": "36fd4458-8f48-454b-a440-b8b234635f50",
   "metadata": {},
   "outputs": [],
   "source": [
    "class Marsupial:\n",
    "    def __init__(self):\n",
    "        self.pouch = []\n",
    "\n",
    "    def put_in_pouch(self, item):\n",
    "        self.pouch.append(item)\n",
    "\n",
    "    def pouch_contents(self):\n",
    "        return self.pouch\n",
    "\n",
    "\n",
    "class Kangaroo(Marsupial):\n",
    "    def __init__(self, x=0, y=0):\n",
    "        super().__init__()\n",
    "        self.x = x\n",
    "        self.y = y\n",
    "\n",
    "    def jump(self, dx, dy):\n",
    "        self.x += dx\n",
    "        self.y += dy\n",
    "\n",
    "    def __str__(self):\n",
    "        return f\"I am a Kangaroo located at coordinates ({self.x},{self.y})\""
   ]
  },
  {
   "cell_type": "code",
   "execution_count": 7,
   "id": "9c04380a-cd76-4014-84ae-9dce16e6c50a",
   "metadata": {},
   "outputs": [
    {
     "name": "stdout",
     "output_type": "stream",
     "text": [
      "['doll', 'firetruck', 'kitten']\n"
     ]
    }
   ],
   "source": [
    "# Test the classes\n",
    "m = Marsupial()\n",
    "m.put_in_pouch('doll')\n",
    "m.put_in_pouch('firetruck')\n",
    "m.put_in_pouch('kitten')\n",
    "print(m.pouch_contents())"
   ]
  },
  {
   "cell_type": "code",
   "execution_count": 10,
   "id": "20be7fbd-b2f0-445b-b09c-ef625535d2e0",
   "metadata": {},
   "outputs": [
    {
     "name": "stdout",
     "output_type": "stream",
     "text": [
      "I am a Kangaroo located at coordinates (0,0)\n"
     ]
    }
   ],
   "source": [
    "k = Kangaroo(0, 0)\n",
    "print(k)"
   ]
  },
  {
   "cell_type": "code",
   "execution_count": 11,
   "id": "8461c1b2-a489-48d3-9fa4-0c39e7f92577",
   "metadata": {},
   "outputs": [
    {
     "name": "stdout",
     "output_type": "stream",
     "text": [
      "['doll', 'firetruck', 'kitten']\n"
     ]
    }
   ],
   "source": [
    "k.put_in_pouch('doll')\n",
    "k.put_in_pouch('firetruck')\n",
    "k.put_in_pouch('kitten')\n",
    "print(k.pouch_contents())"
   ]
  },
  {
   "cell_type": "code",
   "execution_count": 12,
   "id": "4f078ae8-0450-4d2c-b9da-f4c7615e613d",
   "metadata": {},
   "outputs": [
    {
     "name": "stdout",
     "output_type": "stream",
     "text": [
      "I am a Kangaroo located at coordinates (3,0)\n"
     ]
    }
   ],
   "source": [
    "k.jump(1, 0)\n",
    "k.jump(1, 0)\n",
    "k.jump(1, 0)\n",
    "print(k)"
   ]
  },
  {
   "cell_type": "markdown",
   "id": "a27b4f77-00ee-4a7f-a48c-e08f57777cf6",
   "metadata": {},
   "source": [
    "## Q4."
   ]
  },
  {
   "cell_type": "code",
   "execution_count": 17,
   "id": "b886f1df-8867-46f3-b102-1e45ae2613d2",
   "metadata": {},
   "outputs": [],
   "source": [
    "def collatz(x):\n",
    "    print(x)  \n",
    "    if x == 1:\n",
    "        return \n",
    "    elif x % 2 == 0:\n",
    "        collatz(x // 2)  \n",
    "    else:\n",
    "        collatz(3 * x + 1)  "
   ]
  },
  {
   "cell_type": "code",
   "execution_count": 18,
   "id": "d94f40a1-f570-43c4-bce3-5d29d1aceb06",
   "metadata": {},
   "outputs": [
    {
     "name": "stdout",
     "output_type": "stream",
     "text": [
      "1\n"
     ]
    }
   ],
   "source": [
    "collatz(1)"
   ]
  },
  {
   "cell_type": "code",
   "execution_count": 19,
   "id": "3af5c3e5-92fc-4428-a42e-d73a885b4fa8",
   "metadata": {},
   "outputs": [
    {
     "name": "stdout",
     "output_type": "stream",
     "text": [
      "10\n",
      "5\n",
      "16\n",
      "8\n",
      "4\n",
      "2\n",
      "1\n"
     ]
    }
   ],
   "source": [
    "collatz(10)"
   ]
  },
  {
   "cell_type": "markdown",
   "id": "cd2cdca9-30bd-4bd9-9cca-695153891301",
   "metadata": {},
   "source": [
    "## Q5."
   ]
  },
  {
   "cell_type": "code",
   "execution_count": 21,
   "id": "c6d12ef2-ed86-47e5-8ce0-e63a8e055f18",
   "metadata": {},
   "outputs": [
    {
     "name": "stdout",
     "output_type": "stream",
     "text": [
      "0\n",
      "1\n",
      "11\n",
      "1001"
     ]
    }
   ],
   "source": [
    "def binary(n):\n",
    "    if n == 0:\n",
    "        print(0, end='')\n",
    "    elif n == 1:\n",
    "        print(1, end='')\n",
    "    else:\n",
    "        binary(n // 2)\n",
    "        print(n % 2, end='')\n",
    "\n",
    "binary(0) \n",
    "print()\n",
    "binary(1)\n",
    "print()\n",
    "binary(3) \n",
    "print()\n",
    "binary(9) \n"
   ]
  },
  {
   "cell_type": "markdown",
   "id": "091e5fc2-1c40-4b76-8e50-5a05d5ca3b9e",
   "metadata": {},
   "source": [
    "### Q6."
   ]
  },
  {
   "cell_type": "code",
   "execution_count": 28,
   "id": "b49d62de-3093-457e-9dcb-9a4d61ea9297",
   "metadata": {},
   "outputs": [
    {
     "name": "stdout",
     "output_type": "stream",
     "text": [
      "W3C Mission\n",
      " Principles\n"
     ]
    }
   ],
   "source": [
    "from html.parser import HTMLParser\n",
    "\n",
    "class SimpleHeadingParser(HTMLParser):\n",
    "    def __init__(self):\n",
    "        super().__init__()\n",
    "        self.current_tag = None \n",
    "\n",
    "    def handle_starttag(self, tag, attrs):\n",
    "        if tag in [\"h1\", \"h2\", \"h3\", \"h4\", \"h5\", \"h6\"]:\n",
    "            self.current_tag = tag\n",
    "\n",
    "    def handle_endtag(self, tag):\n",
    "        if tag == self.current_tag:\n",
    "            self.current_tag = None\n",
    "\n",
    "    def handle_data(self, data):\n",
    "        if self.current_tag in [\"h1\", \"h2\", \"h3\", \"h4\", \"h5\", \"h6\"]:\n",
    "            indent = int(self.current_tag[1]) - 1\n",
    "            print(' ' * indent + data)\n",
    "\n",
    "def simple_parse_headings(file_path):\n",
    "    with open(file_path, 'r') as infile:\n",
    "        content = infile.read()\n",
    "\n",
    "    hp = SimpleHeadingParser()\n",
    "    hp.feed(content)     \n",
    "\n",
    "simple_parse_headings('w3c.txt')"
   ]
  },
  {
   "cell_type": "markdown",
   "id": "113378b0-233f-477b-ae5f-96463fc15041",
   "metadata": {},
   "source": [
    "### Q.7"
   ]
  },
  {
   "cell_type": "code",
   "execution_count": 30,
   "id": "ac1ee478-7cca-4c07-95b1-5e5012ba7dec",
   "metadata": {},
   "outputs": [
    {
     "name": "stdout",
     "output_type": "stream",
     "text": [
      "http://reed.cs.depaul.edu/lperkovic/csc242/test1.html\n"
     ]
    }
   ],
   "source": [
    "import requests\n",
    "from bs4 import BeautifulSoup\n",
    "\n",
    "def webdir(url, depth, indent):\n",
    "    if depth < 0:\n",
    "        return\n",
    "\n",
    "    try:\n",
    "        response = requests.get(url)\n",
    "        soup = BeautifulSoup(response.text, 'html.parser')\n",
    "        print(' ' * indent + url)\n",
    "\n",
    "        if depth == 0:\n",
    "            return\n",
    "\n",
    "        links = soup.find_all('a')\n",
    "        for link in links:\n",
    "            href = link.get('href')\n",
    "            if href.startswith('http'):\n",
    "                webdir(href, depth - 1, indent + 1)\n",
    "\n",
    "    except Exception as e:\n",
    "        print(' ' * indent + f\"Error: {e}\")\n",
    "\n",
    "\n",
    "webdir('http://reed.cs.depaul.edu/lperkovic/csc242/test1.html', 2, 0)\n"
   ]
  },
  {
   "cell_type": "markdown",
   "id": "a54afc6a-3e57-4ea8-9a5b-60ed1ddd70c4",
   "metadata": {},
   "source": [
    "### Q.8"
   ]
  },
  {
   "cell_type": "markdown",
   "id": "4c585910-a2fb-4662-8f78-ce92ec9762fc",
   "metadata": {},
   "source": [
    "1.\n",
    "SELECT temperature FROM weather_data;\n",
    "\n",
    "2.\n",
    "SELECT DISTINCT city FROM weather_data;\n",
    "\n",
    "3.\n",
    "SELECT * FROM weather_data WHERE country = 'India';\n",
    "\n",
    "4.\n",
    "SELECT * FROM weather_data WHERE season = 'Fall';\n",
    "\n",
    "5.\n",
    "SELECT city, country, season\n",
    "FROM weather_data\n",
    "GROUP BY city, country, season\n",
    "HAVING AVG(rainfall) BETWEEN 200 AND 400;\n",
    "\n",
    "6.\n",
    "SELECT city, country\n",
    "FROM weather_data\n",
    "WHERE season = 'Fall'\n",
    "GROUP BY city, country\n",
    "HAVING AVG(temperature) > 20\n",
    "ORDER BY AVG(temperature) ASC;\n",
    "\n",
    "7.\n",
    "SELECT SUM(rainfall) AS total_annual_rainfall\n",
    "FROM weather_data\n",
    "WHERE city = 'Cairo';\n",
    "\n",
    "8.\n",
    "SELECT season, SUM(rainfall) AS total_rainfall\n",
    "FROM weather_data\n",
    "GROUP BY season;\n"
   ]
  },
  {
   "cell_type": "markdown",
   "id": "aede9427-2435-4f7a-9423-6b8462480c29",
   "metadata": {},
   "source": [
    "### Q.9"
   ]
  },
  {
   "cell_type": "code",
   "execution_count": 32,
   "id": "ac697331-a29c-481d-b77c-c6d6465e9159",
   "metadata": {},
   "outputs": [],
   "source": [
    "words = ['The', 'quick', 'brown', 'fox', 'jumps', 'over',\n",
    "'the', 'lazy', 'dog']"
   ]
  },
  {
   "cell_type": "code",
   "execution_count": 33,
   "id": "e6598f25-731e-4b4c-8940-ec095a14779d",
   "metadata": {},
   "outputs": [
    {
     "name": "stdout",
     "output_type": "stream",
     "text": [
      "['THE', 'QUICK', 'BROWN', 'FOX', 'JUMPS', 'OVER', 'THE', 'LAZY', 'DOG']\n"
     ]
    }
   ],
   "source": [
    "a = [word.upper() for word in words]\n",
    "print(a)"
   ]
  },
  {
   "cell_type": "code",
   "execution_count": 34,
   "id": "77472935-18e0-4b3e-b62f-e27be5a66cee",
   "metadata": {},
   "outputs": [
    {
     "name": "stdout",
     "output_type": "stream",
     "text": [
      "['the', 'quick', 'brown', 'fox', 'jumps', 'over', 'the', 'lazy', 'dog']\n"
     ]
    }
   ],
   "source": [
    "b = [word.lower() for word in words]\n",
    "print(b)"
   ]
  },
  {
   "cell_type": "code",
   "execution_count": 36,
   "id": "1d6bdeca-5b48-409b-83ab-f744d9b05124",
   "metadata": {},
   "outputs": [
    {
     "name": "stdout",
     "output_type": "stream",
     "text": [
      "[3, 5, 5, 3, 5, 4, 3, 4, 3]\n"
     ]
    }
   ],
   "source": [
    "c = [len(word) for word in words]\n",
    "print(c)"
   ]
  },
  {
   "cell_type": "code",
   "execution_count": 37,
   "id": "d77d541b-23e6-456e-b1ec-e584b17bf12d",
   "metadata": {},
   "outputs": [
    {
     "name": "stdout",
     "output_type": "stream",
     "text": [
      "[['THE', 'the', 3], ['QUICK', 'quick', 5], ['BROWN', 'brown', 5], ['FOX', 'fox', 3], ['JUMPS', 'jumps', 5], ['OVER', 'over', 4], ['THE', 'the', 3], ['LAZY', 'lazy', 4], ['DOG', 'dog', 3]]\n"
     ]
    }
   ],
   "source": [
    "d = [[word.upper(), word.lower(), len(word)] for word in words]\n",
    "print(d)"
   ]
  },
  {
   "cell_type": "code",
   "execution_count": 38,
   "id": "32687886-5f7f-47f6-85b7-0ea729ad7887",
   "metadata": {},
   "outputs": [
    {
     "name": "stdout",
     "output_type": "stream",
     "text": [
      "['quick', 'brown', 'jumps', 'over', 'lazy']\n"
     ]
    }
   ],
   "source": [
    "e = [word for word in words if len(word) >= 4]\n",
    "print(e)"
   ]
  },
  {
   "cell_type": "code",
   "execution_count": null,
   "id": "2087c891-bd14-4250-b6c0-ebaf8f497828",
   "metadata": {},
   "outputs": [],
   "source": []
  }
 ],
 "metadata": {
  "kernelspec": {
   "display_name": "Python 3 (ipykernel)",
   "language": "python",
   "name": "python3"
  },
  "language_info": {
   "codemirror_mode": {
    "name": "ipython",
    "version": 3
   },
   "file_extension": ".py",
   "mimetype": "text/x-python",
   "name": "python",
   "nbconvert_exporter": "python",
   "pygments_lexer": "ipython3",
   "version": "3.10.9"
  }
 },
 "nbformat": 4,
 "nbformat_minor": 5
}
